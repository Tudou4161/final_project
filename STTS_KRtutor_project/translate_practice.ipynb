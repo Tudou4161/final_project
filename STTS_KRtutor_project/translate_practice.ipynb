{
 "metadata": {
  "language_info": {
   "codemirror_mode": {
    "name": "ipython",
    "version": 3
   },
   "file_extension": ".py",
   "mimetype": "text/x-python",
   "name": "python",
   "nbconvert_exporter": "python",
   "pygments_lexer": "ipython3",
   "version": "3.8.2-final"
  },
  "orig_nbformat": 2,
  "kernelspec": {
   "name": "Python 3.8.2 64-bit ('STTS_KRtutor_project': pipenv)",
   "display_name": "Python 3.8.2 64-bit ('STTS_KRtutor_project': pipenv)",
   "metadata": {
    "interpreter": {
     "hash": "3f59cc6e8c955ad56dd1fe3396a5a7cdbbe4ea500eaeefada8d96d54462cdfee"
    }
   }
  }
 },
 "nbformat": 4,
 "nbformat_minor": 2,
 "cells": [
  {
   "cell_type": "code",
   "execution_count": 19,
   "metadata": {},
   "outputs": [
    {
     "output_type": "stream",
     "name": "stdout",
     "text": [
      "Hello\n"
     ]
    }
   ],
   "source": [
    "import os\n",
    "import sys\n",
    "import json\n",
    "import urllib.request\n",
    "\n",
    "client_id = \"deribthgxo\"\n",
    "client_secret = \"8NOoY9KhtwKHKZwpOQYr5bovSKA6DSctcC9eClf8\"\n",
    "encText = urllib.parse.quote(\"안녕하세요\")\n",
    "data = \"source=ko&target=en&text=\" + encText\n",
    "url = \"https://naveropenapi.apigw.ntruss.com/nmt/v1/translation\"\n",
    "request = urllib.request.Request(url)\n",
    "request.add_header(\"X-NCP-APIGW-API-KEY-ID\",client_id)\n",
    "request.add_header(\"X-NCP-APIGW-API-KEY\",client_secret)\n",
    "response = urllib.request.urlopen(request, data=data.encode(\"utf-8\"))\n",
    "rescode = response.getcode()\n",
    "if(rescode==200):\n",
    "    response_body = response.read()\n",
    "    result = response_body.decode('utf-8')\n",
    "    json_sentence = json.loads(result)\n",
    "    print(json_sentence[\"message\"][\"result\"][\"translatedText\"])\n",
    "    \n",
    "else:\n",
    "    print(\"Error Code:\" + rescode)"
   ]
  }
 ]
}